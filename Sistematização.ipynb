{
  "nbformat": 4,
  "nbformat_minor": 0,
  "metadata": {
    "colab": {
      "provenance": [],
      "authorship_tag": "ABX9TyMr9krJCCorMIZEVkiCQWhB",
      "include_colab_link": true
    },
    "kernelspec": {
      "name": "python3",
      "display_name": "Python 3"
    },
    "language_info": {
      "name": "python"
    }
  },
  "cells": [
    {
      "cell_type": "markdown",
      "metadata": {
        "id": "view-in-github",
        "colab_type": "text"
      },
      "source": [
        "<a href=\"https://colab.research.google.com/github/omateusmarques/Calculadora/blob/main/Sistematiza%C3%A7%C3%A3o.ipynb\" target=\"_parent\"><img src=\"https://colab.research.google.com/assets/colab-badge.svg\" alt=\"Open In Colab\"/></a>"
      ]
    },
    {
      "cell_type": "markdown",
      "source": [
        "# Mateus Sousa Marques\n",
        "# Matrícula: 72200685"
      ],
      "metadata": {
        "id": "LHfkRmt1nzT8"
      }
    },
    {
      "cell_type": "code",
      "source": [
        "#Valor dos salários\n",
        "salario_base= 1000\n",
        "salario_gerente= 2000\n",
        "\n",
        "#Valor das vendas\n",
        "vendas_emily = int(input(\"Qual o valor de vendas da Emily? \"))\n",
        "vendas_larissa = int(input(\"Qual o valor de vendas da Larissa? \"))\n",
        "vendas_rafael = int(input(\"Qual o valor de vendas do Rafael? \"))\n",
        "vendas_milena = int(input(\"Qual o valor de vendas da Milena? \"))\n",
        "\n",
        "#Cálculo do faturamento\n",
        "faturamento_total = (vendas_emily + vendas_larissa + vendas_rafael + vendas_milena)\n",
        "print(\"Faturamento total = R$\", faturamento_total)\n",
        "\n",
        "\n",
        "#Calculo do Salário da Emily\n",
        "comissao1e= salario_base + vendas_emily*1/100\n",
        "comissao2e= salario_base + vendas_emily*1.5/100\n",
        "comissao3e= salario_base + vendas_emily*2/100\n",
        "\n",
        "if(vendas_emily < 5000):\n",
        "  Salario_Emily = comissao1e\n",
        "  (print(\"\\nSalário da Emily (vendedora) = R$\", Salario_Emily))\n",
        "if(vendas_emily >=5000) and (vendas_emily <10000):\n",
        "  Salario_Emily = comissao2e\n",
        "  (print(\"\\nSalário da Emily (vendedora) = R$\", Salario_Emily))\n",
        "if(vendas_emily >= 10000):\n",
        "  Salario_Emily = comissao3e\n",
        "  (print(\"\\nSalário da Emily (vendedora) = R$\", Salario_Emily))\n",
        "\n",
        "#Calculo do Salário da Larissa\n",
        "comissao1l= salario_base + vendas_larissa*1/100\n",
        "comissao2l= salario_base + vendas_larissa*1.5/100\n",
        "comissao3l= salario_base + vendas_larissa*2/100\n",
        "\n",
        "if(vendas_larissa < 5000):\n",
        "  Salario_larissa = comissao1l\n",
        "  (print(\"Salário da Larissa (vendedora) = R$\", Salario_larissa))\n",
        "if(vendas_larissa >=5000) and (vendas_larissa <10000):\n",
        "  Salario_larissa = comissao2l\n",
        "  (print(\"Salário da Larissa (vendedora) = R$\", Salario_larissa))\n",
        "if(vendas_larissa >= 10000):\n",
        "  Salario_larissa = comissao3l\n",
        "  (print(\"Salário da Larissa (vendedora) = R$\", Salario_larissa))\n",
        "\n",
        "#Calculo do Salário do Rafael\n",
        "comissao1r= salario_base + vendas_rafael*1/100\n",
        "comissao2r= salario_base + vendas_rafael*1.5/100\n",
        "comissao3r= salario_base + vendas_rafael*2/100\n",
        "\n",
        "if(vendas_rafael < 5000):\n",
        "  Salario_rafael = comissao1r\n",
        "  (print(\"Salário do Rafael (vendedor) = R$\", Salario_rafael))\n",
        "if(vendas_rafael >=5000) and (vendas_rafael <10000):\n",
        "  Salario_rafael = comissao2r\n",
        "  (print(\"Salário do Rafael (vendedor) = R$\", Salario_rafael))\n",
        "if(vendas_rafael >= 10000):\n",
        "  Salario_rafael = comissao3r\n",
        "  (print(\"Salário do Rafael (vendedor) = R$\", Salario_rafael))\n",
        "\n",
        "#Calculo do Salário da Milena\n",
        "comissao1m= salario_base + vendas_milena*1/100\n",
        "comissao2m= salario_base + vendas_milena*1.5/100\n",
        "comissao3m= salario_base + vendas_milena*2/100\n",
        "\n",
        "if(vendas_milena < 5000):\n",
        "  Salario_milena = comissao1m\n",
        "  (print(\"Salário da Milena (vendedora) = R$\", Salario_milena))\n",
        "if(vendas_milena >=5000) and (vendas_milena <10000):\n",
        "  Salario_milena = comissao2m\n",
        "  (print(\"Salário da Milena (vendedora) = R$\", Salario_milena))\n",
        "if(vendas_milena >= 10000):\n",
        "  Salario_milena = comissao3m\n",
        "  (print(\"Salário da Milena (vendedora) = R$\", Salario_milena))\n",
        "\n",
        "\n",
        "#Calculo do Salário da Jéssica\n",
        "comissaoj= salario_gerente + faturamento_total*0.5/100\n",
        "(print(\"Salário da Jéssica (gerente) = R$\", comissaoj))\n",
        "\n",
        "#Total dos salários\n",
        "total_salarios = (Salario_Emily + Salario_larissa + Salario_rafael + Salario_milena + comissaoj)\n",
        "(print(\"Total dos salários = R$\", total_salarios))"
      ],
      "metadata": {
        "id": "XQ8w0jyz40o5",
        "colab": {
          "base_uri": "https://localhost:8080/"
        },
        "outputId": "a93f2fcd-90c5-403a-ad98-735a3e95122c"
      },
      "execution_count": 1,
      "outputs": [
        {
          "output_type": "stream",
          "name": "stdout",
          "text": [
            "Qual o valor de vendas da Emily? 10\n",
            "Qual o valor de vendas da Larissa? 1500000\n",
            "Qual o valor de vendas do Rafael? 5000\n",
            "Qual o valor de vendas da Milena? 121212\n",
            "Faturamento total = R$ 1626222\n",
            "\n",
            "Salário da Emily (vendedora) = R$ 1000.1\n",
            "Salário da Larissa (vendedora) = R$ 31000.0\n",
            "Salário do Rafael (vendedor) = R$ 1075.0\n",
            "Salário da Milena (vendedora) = R$ 3424.24\n",
            "Salário da Jéssica (gerente) = R$ 10131.11\n",
            "Total dos salários = R$ 46630.45\n"
          ]
        }
      ]
    }
  ]
}